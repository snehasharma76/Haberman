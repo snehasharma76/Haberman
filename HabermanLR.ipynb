{
  "nbformat": 4,
  "nbformat_minor": 0,
  "metadata": {
    "colab": {
      "name": "Haberman.ipynb",
      "provenance": [],
      "collapsed_sections": [],
      "authorship_tag": "ABX9TyMKErNhooLbHWyimEttlcTp",
      "include_colab_link": true
    },
    "kernelspec": {
      "name": "python3",
      "display_name": "Python 3"
    },
    "language_info": {
      "name": "python"
    }
  },
  "cells": [
    {
      "cell_type": "markdown",
      "metadata": {
        "id": "view-in-github",
        "colab_type": "text"
      },
      "source": [
        "<a href=\"https://colab.research.google.com/github/snehasharma76/Haberman/blob/main/HabermanLR.ipynb\" target=\"_parent\"><img src=\"https://colab.research.google.com/assets/colab-badge.svg\" alt=\"Open In Colab\"/></a>"
      ]
    },
    {
      "cell_type": "code",
      "metadata": {
        "id": "SvZffBpwgHE0"
      },
      "source": [
        "import numpy as np\n",
        "import pandas as pd\n",
        "import matplotlib.pyplot as plt"
      ],
      "execution_count": 1,
      "outputs": []
    },
    {
      "cell_type": "code",
      "metadata": {
        "id": "yffO89KThSCa"
      },
      "source": [
        "dataset = pd.read_csv('haberman.csv')\n",
        "x = dataset.iloc[: , [1,2]].values\n",
        "y = dataset.iloc[: , -1].values"
      ],
      "execution_count": 2,
      "outputs": []
    },
    {
      "cell_type": "code",
      "metadata": {
        "id": "TkKTIr54hXN0"
      },
      "source": [
        "from sklearn.model_selection import train_test_split\n",
        "x_train ,x_test ,  y_train , y_test = train_test_split( x , y, test_size = 0.25 , random_state = 0)"
      ],
      "execution_count": 3,
      "outputs": []
    },
    {
      "cell_type": "code",
      "metadata": {
        "colab": {
          "base_uri": "https://localhost:8080/"
        },
        "id": "6Xp0jS2Jpkys",
        "outputId": "c09a1839-6562-445a-970c-df5409a8c65c"
      },
      "source": [
        "print(x_train)"
      ],
      "execution_count": 4,
      "outputs": [
        {
          "output_type": "stream",
          "text": [
            "[[58  0]\n",
            " [58  4]\n",
            " [58  0]\n",
            " [69  3]\n",
            " [60  0]\n",
            " [64  0]\n",
            " [67  0]\n",
            " [58  0]\n",
            " [66  1]\n",
            " [59  7]\n",
            " [65  8]\n",
            " [60  5]\n",
            " [68 15]\n",
            " [58  0]\n",
            " [68  0]\n",
            " [58  3]\n",
            " [69 22]\n",
            " [59  3]\n",
            " [63  0]\n",
            " [61  0]\n",
            " [62  1]\n",
            " [61  1]\n",
            " [62  6]\n",
            " [66  3]\n",
            " [66 14]\n",
            " [64  0]\n",
            " [62  3]\n",
            " [65 22]\n",
            " [64  9]\n",
            " [65 12]\n",
            " [60 11]\n",
            " [64  0]\n",
            " [59  0]\n",
            " [66  0]\n",
            " [60  0]\n",
            " [62  0]\n",
            " [67 16]\n",
            " [69  7]\n",
            " [60  1]\n",
            " [65  0]\n",
            " [63  0]\n",
            " [61  0]\n",
            " [60  0]\n",
            " [63  0]\n",
            " [67  1]\n",
            " [67  2]\n",
            " [58  1]\n",
            " [65 23]\n",
            " [67  5]\n",
            " [60  0]\n",
            " [64  1]\n",
            " [63  0]\n",
            " [66  0]\n",
            " [59 13]\n",
            " [58  0]\n",
            " [61  8]\n",
            " [60  1]\n",
            " [63 19]\n",
            " [67  7]\n",
            " [64  8]\n",
            " [68  0]\n",
            " [65  4]\n",
            " [63 23]\n",
            " [62  0]\n",
            " [63  1]\n",
            " [64  2]\n",
            " [61  0]\n",
            " [60  3]\n",
            " [63 24]\n",
            " [66  0]\n",
            " [58  2]\n",
            " [61 28]\n",
            " [60  0]\n",
            " [58 11]\n",
            " [64  4]\n",
            " [59  2]\n",
            " [63  0]\n",
            " [64  0]\n",
            " [69 21]\n",
            " [66  0]\n",
            " [63  1]\n",
            " [60  0]\n",
            " [59  0]\n",
            " [63  0]\n",
            " [62 22]\n",
            " [67  3]\n",
            " [58  1]\n",
            " [65  6]\n",
            " [65  0]\n",
            " [65  0]\n",
            " [61  0]\n",
            " [60  4]\n",
            " [65  9]\n",
            " [64  0]\n",
            " [60  1]\n",
            " [64  0]\n",
            " [61  4]\n",
            " [58  0]\n",
            " [64 13]\n",
            " [68  0]\n",
            " [69  8]\n",
            " [67  3]\n",
            " [60  1]\n",
            " [61  2]\n",
            " [67  1]\n",
            " [68  0]\n",
            " [58 52]\n",
            " [62 14]\n",
            " [59  0]\n",
            " [58  1]\n",
            " [64  0]\n",
            " [66  1]\n",
            " [64  7]\n",
            " [60 23]\n",
            " [63  0]\n",
            " [64  7]\n",
            " [64  0]\n",
            " [62  5]\n",
            " [60  4]\n",
            " [64  0]\n",
            " [68  0]\n",
            " [65  0]\n",
            " [64  0]\n",
            " [62  0]\n",
            " [62 35]\n",
            " [58  1]\n",
            " [67  0]\n",
            " [58  1]\n",
            " [66  0]\n",
            " [64  1]\n",
            " [58  3]\n",
            " [68  0]\n",
            " [63  0]\n",
            " [67  0]\n",
            " [64  0]\n",
            " [62  1]\n",
            " [60  0]\n",
            " [64  0]\n",
            " [59  0]\n",
            " [59 14]\n",
            " [65  3]\n",
            " [66  1]\n",
            " [67  0]\n",
            " [63  0]\n",
            " [66  0]\n",
            " [69  0]\n",
            " [59  2]\n",
            " [61  0]\n",
            " [63  6]\n",
            " [63  6]\n",
            " [63  0]\n",
            " [59  2]\n",
            " [68  0]\n",
            " [65  1]\n",
            " [60  0]\n",
            " [60  0]\n",
            " [64  3]\n",
            " [62  0]\n",
            " [67  0]\n",
            " [68  7]\n",
            " [63  3]\n",
            " [65  0]\n",
            " [66 15]\n",
            " [67  0]\n",
            " [69  3]\n",
            " [58  0]\n",
            " [62  5]\n",
            " [67  1]\n",
            " [67  0]\n",
            " [61 10]\n",
            " [60  1]\n",
            " [67  0]\n",
            " [63  0]\n",
            " [59  2]\n",
            " [65  5]\n",
            " [68  1]\n",
            " [64  0]\n",
            " [62  3]\n",
            " [62  1]\n",
            " [58  0]\n",
            " [65  0]\n",
            " [68  4]\n",
            " [58  0]\n",
            " [59  2]\n",
            " [69  1]\n",
            " [64  0]\n",
            " [61  0]\n",
            " [62  3]\n",
            " [58  0]\n",
            " [60  1]\n",
            " [62  0]\n",
            " [58  0]\n",
            " [61  0]\n",
            " [66 11]\n",
            " [60  1]\n",
            " [61  6]\n",
            " [66 18]\n",
            " [65  0]\n",
            " [66  0]\n",
            " [63  4]\n",
            " [67  8]\n",
            " [63 19]\n",
            " [61  0]\n",
            " [61  5]\n",
            " [66  0]\n",
            " [64 10]\n",
            " [59  2]\n",
            " [66  4]\n",
            " [59  2]\n",
            " [61  1]\n",
            " [64  0]\n",
            " [67 46]\n",
            " [58  0]\n",
            " [63  4]\n",
            " [66  2]\n",
            " [67  1]\n",
            " [63  2]\n",
            " [68  0]\n",
            " [68  2]\n",
            " [66  0]\n",
            " [61  0]\n",
            " [67  0]\n",
            " [58 30]\n",
            " [67  0]\n",
            " [61  9]\n",
            " [60  0]\n",
            " [62  0]\n",
            " [59  8]\n",
            " [60  3]]\n"
          ],
          "name": "stdout"
        }
      ]
    },
    {
      "cell_type": "code",
      "metadata": {
        "colab": {
          "base_uri": "https://localhost:8080/"
        },
        "id": "_kDRH3GPpu53",
        "outputId": "cf7d8eb0-981a-42c9-9895-bf052c2e8806"
      },
      "source": [
        "print(y_train)"
      ],
      "execution_count": 5,
      "outputs": [
        {
          "output_type": "stream",
          "text": [
            "[1 2 2 1 1 1 1 1 1 1 1 1 2 1 1 1 1 2 1 1 1 1 1 2 1 2 2 1 1 2 2 1 2 1 1 1 1\n",
            " 1 1 1 1 1 1 2 1 1 1 2 1 1 1 1 1 2 2 1 1 2 2 2 1 1 2 1 1 1 1 1 2 1 1 1 1 2\n",
            " 1 1 1 2 2 1 1 1 1 1 2 1 1 2 1 1 1 1 2 1 1 1 1 1 1 1 1 1 2 2 1 1 2 2 1 1 1\n",
            " 1 1 2 2 1 1 2 1 1 1 2 1 1 2 1 1 1 1 1 1 1 1 1 1 1 1 1 1 1 1 1 1 1 1 1 2 1\n",
            " 2 1 1 1 1 2 1 1 1 1 1 2 1 1 2 1 2 1 2 2 1 1 1 1 1 1 2 2 2 1 1 1 1 1 2 1 2\n",
            " 1 1 1 1 1 1 1 1 1 1 1 1 1 1 1 2 1 1 2 1 2 1 1 1 1 1 1 1 1 1 1 1 1 1 1 1 1\n",
            " 1 1 1 1 1 1 1]\n"
          ],
          "name": "stdout"
        }
      ]
    },
    {
      "cell_type": "code",
      "metadata": {
        "colab": {
          "base_uri": "https://localhost:8080/"
        },
        "id": "7sHj5EPLpd8D",
        "outputId": "d8a4257e-2bff-491e-d0ff-6d46227e7b8c"
      },
      "source": [
        "print(x_test)"
      ],
      "execution_count": 6,
      "outputs": [
        {
          "output_type": "stream",
          "text": [
            "[[63  1]\n",
            " [63 14]\n",
            " [58  0]\n",
            " [61  1]\n",
            " [60  9]\n",
            " [60 15]\n",
            " [65  0]\n",
            " [65 20]\n",
            " [61 13]\n",
            " [62  0]\n",
            " [62  0]\n",
            " [59  0]\n",
            " [66  4]\n",
            " [58  0]\n",
            " [59 13]\n",
            " [59  0]\n",
            " [62 20]\n",
            " [58  2]\n",
            " [66  0]\n",
            " [63  0]\n",
            " [60  0]\n",
            " [59  3]\n",
            " [59  0]\n",
            " [67  7]\n",
            " [66 12]\n",
            " [69  3]\n",
            " [58  1]\n",
            " [59  1]\n",
            " [59  2]\n",
            " [62  2]\n",
            " [69  0]\n",
            " [66  0]\n",
            " [58  9]\n",
            " [58  4]\n",
            " [64  0]\n",
            " [64  1]\n",
            " [65  0]\n",
            " [65  0]\n",
            " [59 17]\n",
            " [69  0]\n",
            " [63 13]\n",
            " [66  9]\n",
            " [64  0]\n",
            " [61  2]\n",
            " [65  0]\n",
            " [66  0]\n",
            " [63  0]\n",
            " [58  2]\n",
            " [61  0]\n",
            " [58 10]\n",
            " [58  0]\n",
            " [61  0]\n",
            " [65  4]\n",
            " [66  0]\n",
            " [63  0]\n",
            " [65  0]\n",
            " [59  6]\n",
            " [61  1]\n",
            " [59  0]\n",
            " [67  0]\n",
            " [66  0]\n",
            " [67  1]\n",
            " [66  0]\n",
            " [63  1]\n",
            " [64  6]\n",
            " [65  0]\n",
            " [65  1]\n",
            " [62  0]\n",
            " [60  2]\n",
            " [61 25]\n",
            " [65  3]\n",
            " [59  8]\n",
            " [58  3]\n",
            " [65 19]\n",
            " [64  1]\n",
            " [58 11]\n",
            " [58  0]]\n"
          ],
          "name": "stdout"
        }
      ]
    },
    {
      "cell_type": "code",
      "metadata": {
        "id": "KwC9Co9NhXgv"
      },
      "source": [
        "from sklearn.preprocessing import StandardScaler \n",
        "sc= StandardScaler()\n",
        "x_train= sc.fit_transform(x_train)\n",
        "x_test= sc.transform(x_test)"
      ],
      "execution_count": 7,
      "outputs": []
    },
    {
      "cell_type": "code",
      "metadata": {
        "colab": {
          "base_uri": "https://localhost:8080/"
        },
        "id": "v_fUDR0wJval",
        "outputId": "dd0becf1-ec4a-44c3-cc10-0b44e33f7890"
      },
      "source": [
        "from sklearn.linear_model import LogisticRegression\n",
        "classifier = LogisticRegression(random_state = 0)\n",
        "classifier.fit(x_train, y_train)"
      ],
      "execution_count": 8,
      "outputs": [
        {
          "output_type": "execute_result",
          "data": {
            "text/plain": [
              "LogisticRegression(C=1.0, class_weight=None, dual=False, fit_intercept=True,\n",
              "                   intercept_scaling=1, l1_ratio=None, max_iter=100,\n",
              "                   multi_class='auto', n_jobs=None, penalty='l2',\n",
              "                   random_state=0, solver='lbfgs', tol=0.0001, verbose=0,\n",
              "                   warm_start=False)"
            ]
          },
          "metadata": {
            "tags": []
          },
          "execution_count": 8
        }
      ]
    },
    {
      "cell_type": "code",
      "metadata": {
        "id": "59kptMj9JQ0V"
      },
      "source": [
        "#from sklearn.tree import DecisionTreeClassifier\n",
        "#classifier =  DecisionTreeClassifier(criterion = 'entropy', random_state=0)\n",
        "#classifier.fit(x_train,y_train)"
      ],
      "execution_count": null,
      "outputs": []
    },
    {
      "cell_type": "code",
      "metadata": {
        "id": "YauJ5AKmIyw_"
      },
      "source": [
        "#from sklearn.ensemble import RandomForestClassifier\n",
        "#classifier = RandomForestClassifier(n_estimators = 10, criterion = 'entropy', random_state = 0)\n",
        "#classifier.fit(x_train, y_train)"
      ],
      "execution_count": null,
      "outputs": []
    },
    {
      "cell_type": "code",
      "metadata": {
        "id": "DJyKMZK3HwKN"
      },
      "source": [
        "#from sklearn.neighbors import KNeighborsClassifier\n",
        "#classifier = KNeighborsClassifier(n_neighbors = 5, metric = 'minkowski', p = 2)\n",
        "#classifier.fit(x_train, y_train)"
      ],
      "execution_count": null,
      "outputs": []
    },
    {
      "cell_type": "code",
      "metadata": {
        "id": "HgjxblDmjFrG"
      },
      "source": [
        "#from sklearn.svm import SVC\n",
        "#classifier = SVC(kernel = 'rbf', random_state =0)\n",
        "#classifier.fit(x_train , y_train)"
      ],
      "execution_count": null,
      "outputs": []
    },
    {
      "cell_type": "code",
      "metadata": {
        "colab": {
          "base_uri": "https://localhost:8080/"
        },
        "id": "3AX8rFKZj-NN",
        "outputId": "ab94a9dd-1105-4ad7-8cf5-20a6246872f7"
      },
      "source": [
        "y_pred = classifier.predict(x_test)\n",
        "print(np.concatenate((y_pred.reshape(len(y_pred),1), y_test.reshape(len(y_test),1)),1))"
      ],
      "execution_count": 9,
      "outputs": [
        {
          "output_type": "stream",
          "text": [
            "[[1 2]\n",
            " [1 1]\n",
            " [1 2]\n",
            " [1 1]\n",
            " [1 2]\n",
            " [1 1]\n",
            " [1 2]\n",
            " [2 2]\n",
            " [1 2]\n",
            " [1 1]\n",
            " [1 1]\n",
            " [1 1]\n",
            " [1 2]\n",
            " [1 1]\n",
            " [1 2]\n",
            " [1 1]\n",
            " [2 1]\n",
            " [1 2]\n",
            " [1 1]\n",
            " [1 1]\n",
            " [1 1]\n",
            " [1 2]\n",
            " [1 1]\n",
            " [1 1]\n",
            " [1 1]\n",
            " [1 2]\n",
            " [1 1]\n",
            " [1 1]\n",
            " [1 2]\n",
            " [1 1]\n",
            " [1 1]\n",
            " [1 1]\n",
            " [1 2]\n",
            " [1 2]\n",
            " [1 2]\n",
            " [1 2]\n",
            " [1 2]\n",
            " [1 1]\n",
            " [1 2]\n",
            " [1 1]\n",
            " [1 2]\n",
            " [1 2]\n",
            " [1 1]\n",
            " [1 1]\n",
            " [1 1]\n",
            " [1 1]\n",
            " [1 1]\n",
            " [1 2]\n",
            " [1 1]\n",
            " [1 1]\n",
            " [1 1]\n",
            " [1 1]\n",
            " [1 1]\n",
            " [1 2]\n",
            " [1 1]\n",
            " [1 1]\n",
            " [1 1]\n",
            " [1 1]\n",
            " [1 2]\n",
            " [1 2]\n",
            " [1 2]\n",
            " [1 1]\n",
            " [1 1]\n",
            " [1 1]\n",
            " [1 2]\n",
            " [1 1]\n",
            " [1 2]\n",
            " [1 2]\n",
            " [1 1]\n",
            " [2 1]\n",
            " [1 2]\n",
            " [1 1]\n",
            " [1 1]\n",
            " [2 2]\n",
            " [1 1]\n",
            " [1 2]\n",
            " [1 1]]\n"
          ],
          "name": "stdout"
        }
      ]
    },
    {
      "cell_type": "code",
      "metadata": {
        "colab": {
          "base_uri": "https://localhost:8080/"
        },
        "id": "wWOHKaINkpzn",
        "outputId": "3cd3d6f6-8f44-46ee-9194-cf59206e475a"
      },
      "source": [
        "from sklearn.metrics import confusion_matrix, accuracy_score\n",
        "cm = confusion_matrix(y_test, y_pred)\n",
        "print(cm)\n",
        "accuracy_score(y_test, y_pred)"
      ],
      "execution_count": 10,
      "outputs": [
        {
          "output_type": "stream",
          "text": [
            "[[44  2]\n",
            " [29  2]]\n"
          ],
          "name": "stdout"
        },
        {
          "output_type": "execute_result",
          "data": {
            "text/plain": [
              "0.5974025974025974"
            ]
          },
          "metadata": {
            "tags": []
          },
          "execution_count": 10
        }
      ]
    },
    {
      "cell_type": "code",
      "metadata": {
        "colab": {
          "base_uri": "https://localhost:8080/",
          "height": 350
        },
        "id": "u3DZJQwqqZnW",
        "outputId": "8bb6678c-e121-4474-f283-31f63a7dabcf"
      },
      "source": [
        "from matplotlib.colors import ListedColormap\n",
        "X_set, y_set = x_train, y_train\n",
        "X1, X2 = np.meshgrid(np.arange(start = X_set[:, 0].min() - 1, stop = X_set[:, 0].max() + 1, step = 0.01),\n",
        "                     np.arange(start = X_set[:, 1].min() - 1, stop = X_set[:, 1].max() + 1, step = 0.01))\n",
        "plt.contourf(X1, X2, classifier.predict(np.array([X1.ravel(), X2.ravel()]).T).reshape(X1.shape),\n",
        "             alpha = 0.75, cmap = ListedColormap(('red', 'green')))\n",
        "plt.xlim(X1.min(), X1.max())\n",
        "plt.ylim(X2.min(), X2.max())\n",
        "for i, j in enumerate(np.unique(y_set)):\n",
        "    plt.scatter(X_set[y_set == j, 0], X_set[y_set == j, 1],\n",
        "                c = ListedColormap(('red', 'green'))(i), label = j)\n",
        "plt.title('SVC (Trainining set')\n",
        "plt.xlabel('Positive auxiliary')\n",
        "plt.ylabel('Survival status')\n",
        "plt.legend()\n",
        "plt.show()"
      ],
      "execution_count": 11,
      "outputs": [
        {
          "output_type": "stream",
          "text": [
            "*c* argument looks like a single numeric RGB or RGBA sequence, which should be avoided as value-mapping will have precedence in case its length matches with *x* & *y*.  Please use the *color* keyword-argument or provide a 2-D array with a single row if you intend to specify the same RGB or RGBA value for all points.\n",
            "*c* argument looks like a single numeric RGB or RGBA sequence, which should be avoided as value-mapping will have precedence in case its length matches with *x* & *y*.  Please use the *color* keyword-argument or provide a 2-D array with a single row if you intend to specify the same RGB or RGBA value for all points.\n"
          ],
          "name": "stderr"
        },
        {
          "output_type": "display_data",
          "data": {
            "image/png": "[encoded data removed]",
            "text/plain": [
              "<Figure size 432x288 with 1 Axes>"
            ]
          },
          "metadata": {
            "tags": [],
            "needs_background": "light"
          }
        }
      ]
    },
    {
      "cell_type": "code",
      "metadata": {
        "id": "uuoiFiOeHtH6"
      },
      "source": [
        ""
      ],
      "execution_count": null,
      "outputs": []
    }
  ]
}